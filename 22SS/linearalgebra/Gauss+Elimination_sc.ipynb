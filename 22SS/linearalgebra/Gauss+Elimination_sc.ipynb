{
 "cells": [
  {
   "cell_type": "code",
   "execution_count": 1,
   "id": "be3cf57d",
   "metadata": {},
   "outputs": [],
   "source": [
    "import numpy as np\n",
    "\n",
    "def gauss(A):\n",
    "    # Make a copy, so that we won't lose the originals.\n",
    "    B = np.array(A, dtype=np.float_)\n",
    "    n, _ = B.shape\n",
    "    \n",
    "    # For each row, we need to set the total times of calcuation.\n",
    "    OPRT = {i:range(i) for i in range(n)}\n",
    "    \n",
    "    # iterate\n",
    "    for row, cols in OPRT.items():\n",
    "        \n",
    "        count = row\n",
    "        # Check zeros on the pivot positions\n",
    "        if np.isclose(B[row,row], 0):\n",
    "            \n",
    "            # Sometimes, we need Permutation for the matrix.\n",
    "            while np.isclose(B[row,row], 0):\n",
    "                count += 1\n",
    "                try:\n",
    "                    B[row] = B[row] + B[count]\n",
    "                    for col in cols:\n",
    "                        B[row] = B[row] - B[row, col] * B[col]\n",
    "                \n",
    "                # If zeros below, the matrix is singular.\n",
    "                except IndexError:\n",
    "                    raise MatrixIsSingular\n",
    "            \n",
    "            # Divide rows by pivots\n",
    "            B[row] = B[row] / B[row,row]\n",
    "\n",
    "\n",
    "        else:\n",
    "            # Otherwise, just implement row operations.\n",
    "            for col in cols:\n",
    "                B[row] = B[row] - B[row, col] * B[col]\n",
    "\n",
    "            B[row] = B[row] / B[row,row]\n",
    "     \n",
    "    return B\n",
    "\n",
    "class MatrixIsSingular(Exception): pass"
   ]
  },
  {
   "cell_type": "code",
   "execution_count": 2,
   "id": "cb5221be",
   "metadata": {},
   "outputs": [],
   "source": [
    "# Example1: needs Permuation\n",
    "A = np.array([\n",
    "        [0, 7, -5, 3],\n",
    "        [2, 8, 0, 4],\n",
    "        [3, 12, 0, 5],\n",
    "        [1, 3, 1, 3]\n",
    "    ], dtype=np.float_)"
   ]
  },
  {
   "cell_type": "code",
   "execution_count": 3,
   "id": "85d86bf4",
   "metadata": {},
   "outputs": [
    {
     "data": {
      "text/plain": [
       "array([[ 1.        ,  7.5       , -2.5       ,  3.5       ],\n",
       "       [-0.        ,  1.        , -0.71428571,  0.42857143],\n",
       "       [ 0.        ,  0.        ,  1.        ,  1.5       ],\n",
       "       [ 0.        ,  0.        ,  0.        ,  1.        ]])"
      ]
     },
     "execution_count": 3,
     "metadata": {},
     "output_type": "execute_result"
    }
   ],
   "source": [
    "gauss(A)"
   ]
  },
  {
   "cell_type": "code",
   "execution_count": 4,
   "id": "02317322",
   "metadata": {},
   "outputs": [],
   "source": [
    "# Example2: a Singular Matrix\n",
    "A = np.array([\n",
    "        [0, 7, -5, 3],\n",
    "        [2, 8, 0, 4],\n",
    "        [3, 12, 0, 5],\n",
    "        [0, 0, 0, 0]\n",
    "    ], dtype=np.float_)"
   ]
  },
  {
   "cell_type": "code",
   "execution_count": 5,
   "id": "3175709a",
   "metadata": {},
   "outputs": [
    {
     "ename": "MatrixIsSingular",
     "evalue": "",
     "output_type": "error",
     "traceback": [
      "\u001b[1;31m---------------------------------------------------------------------------\u001b[0m",
      "\u001b[1;31mIndexError\u001b[0m                                Traceback (most recent call last)",
      "Input \u001b[1;32mIn [1]\u001b[0m, in \u001b[0;36mgauss\u001b[1;34m(A)\u001b[0m\n\u001b[0;32m     22\u001b[0m \u001b[38;5;28;01mtry\u001b[39;00m:\n\u001b[1;32m---> 23\u001b[0m     B[row] \u001b[38;5;241m=\u001b[39m B[row] \u001b[38;5;241m+\u001b[39m \u001b[43mB\u001b[49m\u001b[43m[\u001b[49m\u001b[43mcount\u001b[49m\u001b[43m]\u001b[49m\n\u001b[0;32m     24\u001b[0m     \u001b[38;5;28;01mfor\u001b[39;00m col \u001b[38;5;129;01min\u001b[39;00m cols:\n",
      "\u001b[1;31mIndexError\u001b[0m: index 4 is out of bounds for axis 0 with size 4",
      "\nDuring handling of the above exception, another exception occurred:\n",
      "\u001b[1;31mMatrixIsSingular\u001b[0m                          Traceback (most recent call last)",
      "Input \u001b[1;32mIn [5]\u001b[0m, in \u001b[0;36m<module>\u001b[1;34m\u001b[0m\n\u001b[1;32m----> 1\u001b[0m \u001b[43mgauss\u001b[49m\u001b[43m(\u001b[49m\u001b[43mA\u001b[49m\u001b[43m)\u001b[49m\n",
      "Input \u001b[1;32mIn [1]\u001b[0m, in \u001b[0;36mgauss\u001b[1;34m(A)\u001b[0m\n\u001b[0;32m     27\u001b[0m     \u001b[38;5;66;03m# If zeros below, the matrix is singular.\u001b[39;00m\n\u001b[0;32m     28\u001b[0m     \u001b[38;5;28;01mexcept\u001b[39;00m \u001b[38;5;167;01mIndexError\u001b[39;00m:\n\u001b[1;32m---> 29\u001b[0m         \u001b[38;5;28;01mraise\u001b[39;00m MatrixIsSingular\n\u001b[0;32m     31\u001b[0m \u001b[38;5;66;03m# Divide rows by pivots\u001b[39;00m\n\u001b[0;32m     32\u001b[0m B[row] \u001b[38;5;241m=\u001b[39m B[row] \u001b[38;5;241m/\u001b[39m B[row,row]\n",
      "\u001b[1;31mMatrixIsSingular\u001b[0m: "
     ]
    }
   ],
   "source": [
    "gauss(A)"
   ]
  },
  {
   "cell_type": "markdown",
   "id": "d110b1a5",
   "metadata": {},
   "source": [
    "## Computation"
   ]
  },
  {
   "cell_type": "code",
   "execution_count": 6,
   "id": "70258a7b",
   "metadata": {},
   "outputs": [],
   "source": [
    "# Diagonal matrix\n",
    "A = np.array([[5, 0, 0],\n",
    "              [0, 4, 0],\n",
    "              [0, 0, 3]])"
   ]
  },
  {
   "cell_type": "code",
   "execution_count": 7,
   "id": "493c3022",
   "metadata": {},
   "outputs": [
    {
     "data": {
      "text/plain": [
       "array([[1., 0., 0.],\n",
       "       [0., 1., 0.],\n",
       "       [0., 0., 1.]])"
      ]
     },
     "execution_count": 7,
     "metadata": {},
     "output_type": "execute_result"
    }
   ],
   "source": [
    "gauss(A)"
   ]
  },
  {
   "cell_type": "code",
   "execution_count": 8,
   "id": "63b8e407",
   "metadata": {},
   "outputs": [],
   "source": [
    "# uppertriangular matrix\n",
    "B = np.array([[5, 1, 2],\n",
    "              [0, 4, 4],\n",
    "              [0, 0, 3]])"
   ]
  },
  {
   "cell_type": "code",
   "execution_count": 9,
   "id": "f7d3d672",
   "metadata": {},
   "outputs": [
    {
     "data": {
      "text/plain": [
       "array([[1. , 0.2, 0.4],\n",
       "       [0. , 1. , 1. ],\n",
       "       [0. , 0. , 1. ]])"
      ]
     },
     "execution_count": 9,
     "metadata": {},
     "output_type": "execute_result"
    }
   ],
   "source": [
    "gauss(B)"
   ]
  },
  {
   "cell_type": "code",
   "execution_count": 10,
   "id": "0fc37259",
   "metadata": {},
   "outputs": [],
   "source": [
    "# lowertriangular matrix\n",
    "C = np.array([[5, 0, 0],\n",
    "              [5, 4, 0],\n",
    "              [0, 4, 3]])"
   ]
  },
  {
   "cell_type": "code",
   "execution_count": 11,
   "id": "796d80dd",
   "metadata": {},
   "outputs": [
    {
     "data": {
      "text/plain": [
       "array([[1., 0., 0.],\n",
       "       [0., 1., 0.],\n",
       "       [0., 0., 1.]])"
      ]
     },
     "execution_count": 11,
     "metadata": {},
     "output_type": "execute_result"
    }
   ],
   "source": [
    "gauss(C)"
   ]
  },
  {
   "cell_type": "code",
   "execution_count": 12,
   "id": "006441d9",
   "metadata": {},
   "outputs": [],
   "source": [
    "# General Matrix\n",
    "M = np.array([[2, 4, -2],\n",
    "              [4, 9, -3],\n",
    "              [-2, -3, 7]])"
   ]
  },
  {
   "cell_type": "code",
   "execution_count": 13,
   "id": "fac023b8",
   "metadata": {},
   "outputs": [
    {
     "data": {
      "text/plain": [
       "array([[ 1.,  2., -1.],\n",
       "       [ 0.,  1.,  1.],\n",
       "       [ 0.,  0.,  1.]])"
      ]
     },
     "execution_count": 13,
     "metadata": {},
     "output_type": "execute_result"
    }
   ],
   "source": [
    "gauss(M)"
   ]
  },
  {
   "cell_type": "code",
   "execution_count": 14,
   "id": "7aa9a3f5",
   "metadata": {
    "scrolled": false
   },
   "outputs": [
    {
     "data": {
      "text/plain": [
       "array([[1., 0., 0.],\n",
       "       [0., 1., 0.],\n",
       "       [0., 0., 1.]])"
      ]
     },
     "execution_count": 14,
     "metadata": {},
     "output_type": "execute_result"
    }
   ],
   "source": [
    "gauss(A)"
   ]
  },
  {
   "cell_type": "markdown",
   "id": "2d18d4fc",
   "metadata": {},
   "source": [
    "## Evaluation"
   ]
  },
  {
   "cell_type": "code",
   "execution_count": 15,
   "id": "89ff6d99",
   "metadata": {},
   "outputs": [],
   "source": [
    "## A Programming Task submitted from the course in Coursera(Mathematics for Machine Learning).\n",
    "\n",
    "# For Row Zero, all we require is the first element is equal to 1.\n",
    "# We'll divide the row by the value of A[0, 0].\n",
    "# This will get us in trouble though if A[0, 0] equals 0, so first we'll test for that,\n",
    "# and if this is true, we'll add one of the lower rows to the first one before the division.\n",
    "# We'll repeat the test going down each lower row until we can do the division.\n",
    "# There is no need to edit this function.\n",
    "def fixRowZero(A) :\n",
    "    if A[0,0] == 0 :\n",
    "        A[0] = A[0] + A[1]\n",
    "    if A[0,0] == 0 :\n",
    "        A[0] = A[0] + A[2]\n",
    "    if A[0,0] == 0 :\n",
    "        A[0] = A[0] + A[3]\n",
    "    if A[0,0] == 0 :\n",
    "        raise MatrixIsSingular()\n",
    "    A[0] = A[0] / A[0,0]\n",
    "    return A\n",
    "\n",
    "# First we'll set the sub-diagonal elements to zero, i.e. A[1,0].\n",
    "# Next we want the diagonal element to be equal to one.\n",
    "# We'll divide the row by the value of A[1, 1].\n",
    "# Again, we need to test if this is zero.\n",
    "# If so, we'll add a lower row and repeat setting the sub-diagonal elements to zero.\n",
    "# There is no need to edit this function.\n",
    "def fixRowOne(A) :\n",
    "    A[1] = A[1] - A[1,0] * A[0]\n",
    "    if A[1,1] == 0 :\n",
    "        A[1] = A[1] + A[2]\n",
    "        A[1] = A[1] - A[1,0] * A[0]\n",
    "    if A[1,1] == 0 :\n",
    "        A[1] = A[1] + A[3]\n",
    "        A[1] = A[1] - A[1,0] * A[0]\n",
    "    if A[1,1] == 0 :\n",
    "        raise MatrixIsSingular()\n",
    "    A[1] = A[1] / A[1,1]\n",
    "    return A\n",
    "\n",
    "# Follow the instructions inside the function at each comment.\n",
    "def fixRowTwo(A) :\n",
    "    # Insert code below to set the sub-diagonal elements of row two to zero (there are two of them).\n",
    "    A[2] = A[2] - A[2,0] * A[0]\n",
    "    A[2] = A[2] - A[2,1] * A[1]\n",
    "    \n",
    "    # Next we'll test that the diagonal element is not zero.\n",
    "    if A[2,2] == 0 :\n",
    "        # Insert code below that adds a lower row to row 2.\n",
    "        A[2] = A[2] + A[3]\n",
    "        \n",
    "        # Now repeat your code which sets the sub-diagonal elements to zero.\n",
    "        A[2] = A[2] - A[2,0] * A[0]\n",
    "        A[2] = A[2] - A[2,1] * A[1]        \n",
    "        \n",
    "    if A[2,2] == 0 :\n",
    "        raise MatrixIsSingular()\n",
    "    # Finally set the diagonal element to one by dividing the whole row by that element.\n",
    "    A[2] = A[2] / A[2,2]\n",
    "    return A\n",
    "\n",
    "# Follow the instructions inside the function at each comment.\n",
    "def fixRowThree(A) :\n",
    "    # Insert code below to set the sub-diagonal elements of row three to zero.\n",
    "    A[3] = A[3] - A[3,0] * A[0]\n",
    "    A[3] = A[3] - A[3,1] * A[1]\n",
    "    A[3] = A[3] - A[3,2] * A[2]\n",
    "    \n",
    "    \n",
    "    # Complete the if statement to test if the diagonal element is zero.\n",
    "    if A[3,3] == 0:\n",
    "        raise MatrixIsSingular()\n",
    "    # Transform the row to set the diagonal element to one.\n",
    "    A[3] = A[3] / A[3,3]\n",
    "    return A"
   ]
  },
  {
   "cell_type": "code",
   "execution_count": 16,
   "id": "22e51352",
   "metadata": {},
   "outputs": [],
   "source": [
    "A = np.array([\n",
    "        [1, 1, 0, 0],\n",
    "        [1, 2, 1, 0],\n",
    "        [0, 1, 2, 1],\n",
    "        [0, 0, 1, 2]\n",
    "    ], dtype=np.float_)"
   ]
  },
  {
   "cell_type": "code",
   "execution_count": 17,
   "id": "6a31fbee",
   "metadata": {},
   "outputs": [
    {
     "data": {
      "text/plain": [
       "array([[1., 1., 0., 0.],\n",
       "       [1., 2., 1., 0.],\n",
       "       [0., 1., 2., 1.],\n",
       "       [0., 0., 1., 2.]])"
      ]
     },
     "execution_count": 17,
     "metadata": {},
     "output_type": "execute_result"
    }
   ],
   "source": [
    "fixRowZero(A)"
   ]
  },
  {
   "cell_type": "code",
   "execution_count": 18,
   "id": "c54b5e67",
   "metadata": {},
   "outputs": [
    {
     "data": {
      "text/plain": [
       "array([[1., 1., 0., 0.],\n",
       "       [0., 1., 1., 0.],\n",
       "       [0., 1., 2., 1.],\n",
       "       [0., 0., 1., 2.]])"
      ]
     },
     "execution_count": 18,
     "metadata": {},
     "output_type": "execute_result"
    }
   ],
   "source": [
    "fixRowOne(A)"
   ]
  },
  {
   "cell_type": "code",
   "execution_count": 19,
   "id": "e80df3e1",
   "metadata": {},
   "outputs": [
    {
     "data": {
      "text/plain": [
       "array([[1., 1., 0., 0.],\n",
       "       [0., 1., 1., 0.],\n",
       "       [0., 0., 1., 1.],\n",
       "       [0., 0., 1., 2.]])"
      ]
     },
     "execution_count": 19,
     "metadata": {},
     "output_type": "execute_result"
    }
   ],
   "source": [
    "fixRowTwo(A)"
   ]
  },
  {
   "cell_type": "code",
   "execution_count": 20,
   "id": "9c82e2fb",
   "metadata": {},
   "outputs": [
    {
     "data": {
      "text/plain": [
       "array([[1., 1., 0., 0.],\n",
       "       [0., 1., 1., 0.],\n",
       "       [0., 0., 1., 1.],\n",
       "       [0., 0., 0., 1.]])"
      ]
     },
     "execution_count": 20,
     "metadata": {},
     "output_type": "execute_result"
    }
   ],
   "source": [
    "fixRowThree(A)"
   ]
  },
  {
   "cell_type": "code",
   "execution_count": 21,
   "id": "a192ec1e",
   "metadata": {
    "scrolled": false
   },
   "outputs": [
    {
     "data": {
      "text/plain": [
       "array([[1., 1., 0., 0.],\n",
       "       [0., 1., 1., 0.],\n",
       "       [0., 0., 1., 1.],\n",
       "       [0., 0., 0., 1.]])"
      ]
     },
     "execution_count": 21,
     "metadata": {},
     "output_type": "execute_result"
    }
   ],
   "source": [
    "# Compare with my solution\n",
    "\n",
    "A = np.array([\n",
    "        [1, 1, 0, 0],\n",
    "        [1, 2, 1, 0],\n",
    "        [0, 1, 2, 1],\n",
    "        [0, 0, 1, 2]\n",
    "    ], dtype=np.float_)\n",
    "\n",
    "gauss(A)"
   ]
  },
  {
   "cell_type": "code",
   "execution_count": 22,
   "id": "c2b8bf53",
   "metadata": {},
   "outputs": [],
   "source": [
    "# We get the same result!!"
   ]
  }
 ],
 "metadata": {
  "kernelspec": {
   "display_name": "Python 3 (ipykernel)",
   "language": "python",
   "name": "python3"
  },
  "language_info": {
   "codemirror_mode": {
    "name": "ipython",
    "version": 3
   },
   "file_extension": ".py",
   "mimetype": "text/x-python",
   "name": "python",
   "nbconvert_exporter": "python",
   "pygments_lexer": "ipython3",
   "version": "3.9.7"
  }
 },
 "nbformat": 4,
 "nbformat_minor": 5
}
